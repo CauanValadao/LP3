{
 "cells": [
  {
   "cell_type": "code",
   "execution_count": 36,
   "id": "56b42d82",
   "metadata": {},
   "outputs": [],
   "source": [
    "class Ponto2D:\n",
    "    \n",
    "    def __init__(self, x = 0.0, y = 0.0):\n",
    "        self.__x = self.valida(x)\n",
    "        self.__y = self.valida(y)\n",
    "    \n",
    "    def valida(self, valor):\n",
    "        try:\n",
    "            return float(valor)\n",
    "        except (ValueError, TypeError):\n",
    "            return 0.0\n",
    "\n",
    "    @property\n",
    "    def x(self):\n",
    "        return self.__x\n",
    "        \n",
    "    @property\n",
    "    def y(self):\n",
    "        return self.__y\n",
    "\n",
    "    @x.setter\n",
    "    def x(self, x):\n",
    "        if isinstance(x, float) or isinstance(x, int): self.__x = float(x)\n",
    "    @y.setter\n",
    "    def y(self, y):\n",
    "        if isinstance(y, float) or isinstance(y, int): self.__y = float(y)\n",
    "\n",
    "    def movePara(self, novoX = None, novoY = None):\n",
    "        self.x = novoX\n",
    "        self.y = novoY\n",
    "\n",
    "    def __str__(self):\n",
    "        return f\"Ponto2D = (x = {self.x},y = {self.y})\"\n"
   ]
  },
  {
   "cell_type": "code",
   "execution_count": 15,
   "id": "223bb16c",
   "metadata": {},
   "outputs": [],
   "source": [
    "class Vertice:\n",
    "    def __init__(self, construir = 4):\n",
    "        self.__vertices = []\n",
    "        if isinstance(construir, Ponto2D):\n",
    "            self.__limite = 4\n",
    "            self.__vertices.append(Ponto2D(construir.x, construir.y))\n",
    "        elif isinstance(construir, Vertice):\n",
    "            self.__limite = construir.limite\n",
    "            for i in range(self.__limite):\n",
    "                self.__vertices.append(Ponto2D(construir.vertices[i].x, construir.vertices[i].y))\n",
    "        elif isinstance(construir, int):\n",
    "            if construir > 0: self.__limite = construir\n",
    "            else: self.__limite = 4\n",
    "        else:\n",
    "            self.__limite = 4\n",
    "            \n",
    "\n",
    "    @property\n",
    "    def limite(self):\n",
    "        return self.__limite\n",
    "    \n",
    "    @property\n",
    "    def vertices(self):\n",
    "        return self.__vertices\n",
    "    \n",
    "    def adicionaVertice(self, x = None , y = None, ponto = None):\n",
    "        if len(self.__vertices) <= self.__limite:\n",
    "            if isinstance(ponto, Ponto2D): self.__vertices.append(Ponto2D(ponto.x, ponto.y))\n",
    "            else: self.__vertices.append(Ponto2D(x, y))\n",
    "            return True\n",
    "        return False\n",
    "    \n",
    "\n",
    "    def mostraPontos(self):\n",
    "        for i in range(len(self.__vertices)):\n",
    "            print(f\"Vertice {i+1}: {self.__vertices[i]}\")\n",
    "\n",
    "            \n"
   ]
  },
  {
   "cell_type": "code",
   "execution_count": 45,
   "id": "7c1b2953",
   "metadata": {},
   "outputs": [
    {
     "name": "stdout",
     "output_type": "stream",
     "text": [
      "Retângulo:\n",
      "Vertice 1: Ponto2D = (x = 0.0,y = 0.0)\n",
      "Vertice 2: Ponto2D = (x = 4.0,y = 0.0)\n",
      "Vertice 3: Ponto2D = (x = 0.0,y = 8.0)\n",
      "Vertice 4: Ponto2D = (x = 4.0,y = 8.0)\n",
      "\n",
      "Triângulo:\n",
      "Vertice 1: Ponto2D = (x = 0.0,y = 0.0)\n",
      "Vertice 2: Ponto2D = (x = 4.0,y = 0.0)\n",
      "Vertice 3: Ponto2D = (x = 2.0,y = 3.0)\n",
      "1.0 2.0\n"
     ]
    }
   ],
   "source": [
    "def main():\n",
    "    retangulo = Vertice(4)\n",
    "\n",
    "    retangulo.adicionaVertice(\"parametroErrado\",0)\n",
    "    retangulo.adicionaVertice(\"4\",0)\n",
    "    retangulo.adicionaVertice(0,8)\n",
    "    retangulo.adicionaVertice(4,'8')\n",
    "\n",
    "    triangulo = Vertice(3)\n",
    "    triangulo.adicionaVertice(0,0)\n",
    "    triangulo.adicionaVertice(4,0)\n",
    "    triangulo.adicionaVertice(2,3)\n",
    "\n",
    "    print(\"Retângulo:\")\n",
    "    retangulo.mostraPontos()\n",
    "\n",
    "    print(\"\\nTriângulo:\")\n",
    "    triangulo.mostraPontos()\n",
    "\n",
    "    ponto = Ponto2D(1, 2)\n",
    "    print(ponto.x, ponto.y)\n",
    "\n",
    "\n",
    "main()"
   ]
  },
  {
   "cell_type": "code",
   "execution_count": null,
   "id": "2487f585",
   "metadata": {},
   "outputs": [],
   "source": [
    "class Ponto3D(Ponto2D):\n",
    "\n",
    "    def __init__(self, x = 0.0, y = 0.0, z = 0.0):\n",
    "        super().__init__(x,y)\n",
    "        self.__z = self.valida(z)\n",
    "        \n",
    "    @property\n",
    "    def z(self):\n",
    "        return self.__z\n",
    "\n",
    "    @z.setter\n",
    "    def z(self, z):\n",
    "        if isinstance(z, float) or isinstance(z, int): self.__z = float(z)\n",
    "\n",
    "    def movePara(self, novoX = None, novoY = None, novoZ = None):\n",
    "        #Ponto2D.movePara(novoX, novoY)\n",
    "        super().movePara(novoX, novoY)\n",
    "        self.__z = novoZ\n",
    "\n",
    "    def __str__(self):\n",
    "        return f\"Ponto3D = (x = {self.x}, y = {self.y}, z = {self.__z})\""
   ]
  },
  {
   "cell_type": "code",
   "execution_count": 47,
   "id": "fbed533d",
   "metadata": {},
   "outputs": [
    {
     "name": "stdout",
     "output_type": "stream",
     "text": [
      "Ponto3D = (x = 1.0, y = 2.0, z = 3.0)\n",
      "Ponto3D = (x = 4.0, y = 5.0, z = 6.0)\n"
     ]
    }
   ],
   "source": [
    "ponto1 = Ponto3D(1, 2, 3)\n",
    "ponto2 = Ponto3D(4, 5, 6)\n",
    "\n",
    "print(ponto1)\n",
    "print(ponto2)"
   ]
  }
 ],
 "metadata": {
  "kernelspec": {
   "display_name": "base",
   "language": "python",
   "name": "python3"
  },
  "language_info": {
   "codemirror_mode": {
    "name": "ipython",
    "version": 3
   },
   "file_extension": ".py",
   "mimetype": "text/x-python",
   "name": "python",
   "nbconvert_exporter": "python",
   "pygments_lexer": "ipython3",
   "version": "3.12.4"
  }
 },
 "nbformat": 4,
 "nbformat_minor": 5
}
