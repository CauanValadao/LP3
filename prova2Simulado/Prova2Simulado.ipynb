{
 "cells": [
  {
   "cell_type": "code",
   "execution_count": null,
   "id": "56b42d82",
   "metadata": {},
   "outputs": [],
   "source": [
    "class Ponto2D:\n",
    "    \n",
    "    def __init__(self, x = 0.0, y = 0.0):\n",
    "        if isinstance(x, float) or isinstance(x, int): self.__x = float(x)\n",
    "        else: self.__x = 0.0\n",
    "        if isinstance(y, float) or isinstance(y, int): self.__y = float(y)\n",
    "        else: self.__y = 0.0\n",
    "    \n",
    "    @property\n",
    "    def x(self):\n",
    "        return self.__x\n",
    "        \n",
    "    @property\n",
    "    def y(self):\n",
    "        return self.__y\n",
    "\n",
    "    @x.setter\n",
    "    def x(self, x):\n",
    "        if isinstance(x, float) or isinstance(x, int): self.__x = float(x)\n",
    "    @y.setter\n",
    "    def y(self, y):\n",
    "        if isinstance(y, float) or isinstance(y, int): self.__y = float(y)\n",
    "\n",
    "    def movePara(self, novoX = x, novoY = y):\n",
    "        self.x = novoX\n",
    "        self.y = novoY\n",
    "\n",
    "    def __str__(self):\n",
    "        return f\"Ponto2D = (x = {self.x},y = {self.y})\"\n"
   ]
  },
  {
   "cell_type": "code",
   "execution_count": null,
   "id": "223bb16c",
   "metadata": {},
   "outputs": [],
   "source": [
    "class Vertice:\n",
    "    def __init__(self, construir = 4):\n",
    "        self.__vetores = []\n",
    "        if isinstance(construir, Ponto2D):\n",
    "            self.__limite = 4\n",
    "            self.__vetores.append(construir)\n",
    "        elif isinstance(construir, Vertice):\n",
    "            self.__limite = construir.limite\n",
    "            for i in range(self.__limite):\n",
    "                self.__vetores.append(Ponto2D(construir))\n",
    "\n",
    "\n",
    "    @property\n",
    "    def limite(self):\n",
    "        return self.__limite\n",
    "            \n"
   ]
  }
 ],
 "metadata": {
  "kernelspec": {
   "display_name": "base",
   "language": "python",
   "name": "python3"
  },
  "language_info": {
   "name": "python",
   "version": "3.12.3"
  }
 },
 "nbformat": 4,
 "nbformat_minor": 5
}
