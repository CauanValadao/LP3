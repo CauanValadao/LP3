{
 "cells": [
  {
   "cell_type": "code",
   "execution_count": null,
   "id": "56b42d82",
   "metadata": {},
   "outputs": [],
   "source": [
    "class Ponto2D:\n",
    "    \n",
    "    def __init__(self, x = 0.0, y = 0.0):\n",
    "        self.__x = x\n",
    "        self.__y = y\n",
    "    \n",
    "    @property\n",
    "    def x(self):\n",
    "        return self.__x\n",
    "        \n",
    "    @property\n",
    "    def y(self):\n",
    "        return self.__y\n",
    "\n",
    "    @x.setter\n",
    "    def x(self, x):\n",
    "        if isinstance(x, double)\n"
   ]
  }
 ],
 "metadata": {
  "kernelspec": {
   "display_name": "base",
   "language": "python",
   "name": "python3"
  },
  "language_info": {
   "name": "python",
   "version": "3.12.3"
  }
 },
 "nbformat": 4,
 "nbformat_minor": 5
}
