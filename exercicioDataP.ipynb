{
 "cells": [
  {
   "cell_type": "code",
   "execution_count": null,
   "id": "088fd2c8",
   "metadata": {},
   "outputs": [
    {
     "name": "stdout",
     "output_type": "stream",
     "text": [
      "ola\n"
     ]
    }
   ],
   "source": [
    "class Data:\n",
    "    def __init__(self, dia = 1, mes = 1, ano = 1, outraData = None, dias = 0):\n",
    "        self._dia = dia\n",
    "        self._mes = mes\n",
    "        self._ano = ano\n",
    "        if outraData != None:\n",
    "            self._dia = outraData.dia\n",
    "            self._mes = outraData.mes\n",
    "            self._ano = outraData.ano\n",
    "        if outraData != 0:\n",
    "            for i in range(dias):\n",
    "                self._dia += 1\n",
    "                if(not Data.valida)\n",
    "                    self._dia = 1\n",
    "                    self._mes += 1\n",
    "\n",
    "\n",
    "\n",
    "\n"
   ]
  }
 ],
 "metadata": {
  "kernelspec": {
   "display_name": "base",
   "language": "python",
   "name": "python3"
  },
  "language_info": {
   "codemirror_mode": {
    "name": "ipython",
    "version": 3
   },
   "file_extension": ".py",
   "mimetype": "text/x-python",
   "name": "python",
   "nbconvert_exporter": "python",
   "pygments_lexer": "ipython3",
   "version": "3.12.3"
  }
 },
 "nbformat": 4,
 "nbformat_minor": 5
}
