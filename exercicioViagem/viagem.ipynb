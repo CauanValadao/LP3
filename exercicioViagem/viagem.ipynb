{
 "cells": [
  {
   "cell_type": "code",
   "execution_count": null,
   "id": "002d0e26",
   "metadata": {},
   "outputs": [],
   "source": [
    "class Cliente:\n",
    "    def __init__(self, nome = \"fulano\", cpf = \"000.000.000-00\"):\n",
    "        self._nome = nome\n",
    "        self._cpf = cpf\n",
    "        self._dependentes = []\n",
    "\n",
    "    def adicionaDependente(self, nome = \"fulano\"):\n",
    "       if isinstance(nome, str): self._dependentes.append(nome)\n",
    "\n",
    "    @property\n",
    "    def nome(self):\n",
    "        return self._nome\n",
    "    \n",
    "    @property\n",
    "    def cpf(self):\n",
    "        return self._cpf\n",
    "    \n",
    "    @nome.setter\n",
    "    def nome(self, nome):\n",
    "        if isinstance(nome, str): self._nome = nome\n",
    "\n",
    "    @cpf.setter\n",
    "    def cpf(self, cpf):\n",
    "        if isinstance(cpf, int): self._cpf = cpf\n",
    "\n",
    "    def __str__(self):\n",
    "        return f\"{self._nome} - {self._cpf}\"\n",
    "\n",
    "        "
   ]
  },
  {
   "cell_type": "code",
   "execution_count": 57,
   "id": "c7dca966",
   "metadata": {},
   "outputs": [],
   "source": [
    "class Dependente:\n",
    "    def __init__(self, nome = \"ciclano\", cliente = 1):\n",
    "        self.__nome = nome\n",
    "        if isinstance(cliente, Cliente): self.__cliente = cliente\n",
    "        else: self.__cliente = Cliente()\n",
    "\n",
    "    def qualNomeDependente(self):\n",
    "        return self.nome\n",
    "        \n",
    "    def alteraNomeDependente(self, nome):\n",
    "        if isinstance(nome, str): self.__nome = nome\n",
    "\n",
    "    def __str__(self):\n",
    "        return f\"{self.__nome} - {self.__cliente}\"\n"
   ]
  },
  {
   "cell_type": "code",
   "execution_count": 64,
   "id": "14bfc597",
   "metadata": {},
   "outputs": [
    {
     "name": "stdout",
     "output_type": "stream",
     "text": [
      "cauan - 049-953-825.00\n",
      "fulano1\n"
     ]
    }
   ],
   "source": [
    "def main2():\n",
    "    d2 = Cliente(\"cauan\", \"049-953-825.00\")\n",
    "    print(d2)\n",
    "\n",
    "    d2.adicionaDependente(\"fulano1\")\n",
    "    d2.adicionaDependente(\"fulano2\")\n",
    "    d2.adicionaDependente(\"fulano3\")\n",
    "\n",
    "    print(d2._dependentes[0])\n",
    "\n",
    "\n",
    "main2()"
   ]
  },
  {
   "cell_type": "code",
   "execution_count": 4,
   "id": "dec7523f",
   "metadata": {},
   "outputs": [],
   "source": [
    "class Evento:\n",
    "    def __init__(self, duracao = 10):\n",
    "        self._duracao = duracao\n",
    "\n",
    "    def qualDuracao(self):\n",
    "        return self._duracao\n",
    "    \n",
    "    def alteraDuracao(self, duracao):\n",
    "        self._duracao = duracao\n",
    "\n",
    "    def __str__(self):\n",
    "        return f\"{self._duracao} h\""
   ]
  },
  {
   "cell_type": "code",
   "execution_count": 37,
   "id": "f3b6f8e4",
   "metadata": {},
   "outputs": [],
   "source": [
    "class Roteiro(Evento):\n",
    "    def __init__(self, nome = \"roteiro\", duracao = 10):\n",
    "        super().__init__(duracao)\n",
    "        self.__nome = nome\n",
    "\n",
    "    def localroteiro(self):\n",
    "        return self.__nome\n",
    "    \n",
    "    def __str__(self):\n",
    "        return f\"{self.__nome} - \" + Evento.__str__(self)\n",
    "    \n",
    "            \n"
   ]
  },
  {
   "cell_type": "code",
   "execution_count": 33,
   "id": "eaa14e95",
   "metadata": {},
   "outputs": [],
   "source": [
    "class Deslocamento(Evento):\n",
    "    def __init__(self, origem = \"lugar1\", destino = \"lugar 2\", duracao = 10):\n",
    "        Evento.__init__(self, duracao)\n",
    "\n",
    "        self.__origem = origem\n",
    "        self.__destino = destino\n",
    "\n",
    "    def qualDuracao(self):\n",
    "        return super().qualDuracao() + 10\n",
    "\n",
    "    def paraOnde(self):\n",
    "        return self.__destino\n",
    "    \n",
    "    def deOnde(self):\n",
    "        return self.__origem\n",
    "    \n",
    "\n",
    "    def __str__(self):\n",
    "        return f\"{self.__origem} - {self.__destino} - \" + super().__str__()\n",
    "    \n"
   ]
  },
  {
   "cell_type": "code",
   "execution_count": 38,
   "id": "d60e62ea",
   "metadata": {},
   "outputs": [
    {
     "name": "stdout",
     "output_type": "stream",
     "text": [
      "itaipu de fora - 20 h\n"
     ]
    }
   ],
   "source": [
    "def main():\n",
    "    d1 = Roteiro(\"itaipu de fora\", 20)\n",
    "    print(d1)\n",
    "\n",
    "main()"
   ]
  }
 ],
 "metadata": {
  "kernelspec": {
   "display_name": "base",
   "language": "python",
   "name": "python3"
  },
  "language_info": {
   "codemirror_mode": {
    "name": "ipython",
    "version": 3
   },
   "file_extension": ".py",
   "mimetype": "text/x-python",
   "name": "python",
   "nbconvert_exporter": "python",
   "pygments_lexer": "ipython3",
   "version": "3.12.3"
  }
 },
 "nbformat": 4,
 "nbformat_minor": 5
}
