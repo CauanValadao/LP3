{
 "cells": [
  {
   "cell_type": "code",
   "execution_count": 1,
   "id": "002d0e26",
   "metadata": {},
   "outputs": [],
   "source": [
    "class Cliente:\n",
    "    def __init__(self, nome = \"fulano\", cpf = \"000.000.000-00\"):\n",
    "        self._nome = nome\n",
    "        self._cpf = cpf\n",
    "        self._dependentes = []\n",
    "\n",
    "    def adicionaDependente(self, nome = \"fulano\"):\n",
    "       if isinstance(nome, str): self._dependentes.append(nome)\n",
    "\n",
    "    @property\n",
    "    def nome(self):\n",
    "        return self._nome\n",
    "    \n",
    "    @property\n",
    "    def cpf(self):\n",
    "        return self._cpf\n",
    "    \n",
    "    @nome.setter\n",
    "    def nome(self, nome):\n",
    "        if isinstance(nome, str): self._nome = nome\n",
    "\n",
    "    @cpf.setter\n",
    "    def nome(self, cpf):\n",
    "        if isinstance(cpf, int): self._cpf = cpf\n",
    "\n",
    "        "
   ]
  },
  {
   "cell_type": "code",
   "execution_count": 2,
   "id": "dec7523f",
   "metadata": {},
   "outputs": [],
   "source": [
    "class Evento:\n",
    "    def __init__(self, duracao = 10):\n",
    "        self._duracao = duracao\n",
    "\n",
    "    def qualDuracao(self):\n",
    "        return self._duracao\n",
    "    \n",
    "    def alteraDuracao(self, duracao):\n",
    "        self._duracao = duracao\n",
    "\n",
    "    def __str__(self):\n",
    "        return f\"{self._duracao} h\""
   ]
  },
  {
   "cell_type": "code",
   "execution_count": 33,
   "id": "eaa14e95",
   "metadata": {},
   "outputs": [],
   "source": [
    "class Deslocamento(Evento):\n",
    "    def __init__(self, origem, destino, duracao):\n",
    "        Evento.__init__(self)\n",
    "\n",
    "        self.__origem = origem\n",
    "        self.__destino = destino\n",
    "\n",
    "    def qualDuracao(self):\n",
    "        return super().qualDuracao() + 10\n",
    "\n",
    "    def paraOnde(self):\n",
    "        return self.__destino\n",
    "    \n",
    "    def deOnde(self):\n",
    "        return self.__origem\n",
    "    \n",
    "    def __str__(self):\n",
    "        return f\"{self.__origem} - {self.__destino} - \" + super().__str__()\n",
    "    \n"
   ]
  },
  {
   "cell_type": "code",
   "execution_count": 34,
   "id": "d60e62ea",
   "metadata": {},
   "outputs": [
    {
     "name": "stdout",
     "output_type": "stream",
     "text": [
      "hotel - praia - 10 h\n",
      "20\n"
     ]
    }
   ],
   "source": [
    "def main():\n",
    "    d1 = Deslocamento(\"hotel\", \"praia\", 20)\n",
    "    print(d1)\n",
    "    print(d1.qualDuracao())\n",
    "    \n",
    "\n",
    "main()"
   ]
  }
 ],
 "metadata": {
  "kernelspec": {
   "display_name": "base",
   "language": "python",
   "name": "python3"
  },
  "language_info": {
   "codemirror_mode": {
    "name": "ipython",
    "version": 3
   },
   "file_extension": ".py",
   "mimetype": "text/x-python",
   "name": "python",
   "nbconvert_exporter": "python",
   "pygments_lexer": "ipython3",
   "version": "3.12.3"
  }
 },
 "nbformat": 4,
 "nbformat_minor": 5
}
